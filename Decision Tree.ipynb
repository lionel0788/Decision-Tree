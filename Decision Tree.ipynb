{
 "cells": [
  {
   "cell_type": "markdown",
   "metadata": {},
   "source": [
    "Un modèle d'arbre de décision peut être utilisé pour représenter visuellement et explicitement les décisions et la prise de décision.\n",
    "Un arbre de décision est un ensemble de décisions hiérarchiques qui nous donnent finalement un résultat final.\n",
    "Le résultat peut être une prédiction de régression ou une classification."
   ]
  },
  {
   "cell_type": "markdown",
   "metadata": {},
   "source": [
    "Gini Impureté\n",
    "Comme nous l'avons dit précédemment, la meilleure répartition est choisie à l'aide d'une fonction de coût :\n",
    "\n",
    "Il existe de nombreuses fonctions de coût que nous pouvons utiliser, mais la plus courante est l'impureté de Gini :\n",
    "\n",
    "L'impureté Gini quantifie la pureté du nœud/feuille. Un score de Gini supérieur à zéro implique que les échantillons contenus dans ce nœud appartiennent à des classes différentes."
   ]
  },
  {
   "cell_type": "code",
   "execution_count": 1,
   "metadata": {},
   "outputs": [],
   "source": [
    "#import graphviz\n",
    "#dot_data=tree.export_graphviz(classifier,out_file=None)\n",
    "#graph=graphviz.Source(dot_data)\n",
    "#graph.render(\"data\")\n",
    "#graph"
   ]
  },
  {
   "cell_type": "code",
   "execution_count": 2,
   "metadata": {},
   "outputs": [],
   "source": [
    "#dtree=tree.DecisionTreeClassifier(criterion=\"gini\",splitter='random',max_leaf_nodes=10,min_samples_leaf=5,max_depth=5)"
   ]
  },
  {
   "cell_type": "markdown",
   "metadata": {},
   "source": [
    "Avantages de l'arbre de décision\n",
    "Facile à comprendre et à interpréter. À chaque nœud, nous pouvons voir exactement quelle décision notre modèle prend.\n",
    "\n",
    "Peut gérer des données numériques et catégorielles.\n",
    "\n",
    "Ne nécessite pas beaucoup de prétraitement."
   ]
  },
  {
   "cell_type": "markdown",
   "metadata": {},
   "source": [
    "Inconvénients de l'arbre de décision\n",
    "Les calculs peuvent devenir difficiles lorsqu'il existe de nombreuses étiquettes et fonctionnalités cibles.\n",
    "\n",
    "Les apprenants en arbre de décision peuvent créer des arbres trop complexes qui ne généralisent pas bien les données, ce qui signifie qu'ils souffrent de surajustement."
   ]
  },
  {
   "cell_type": "markdown",
   "metadata": {},
   "source": [
    "Un arbre est composé de nœuds internes, de branches et de nœuds feuilles.\n",
    "\n",
    "Pour déterminer quelle est la répartition optimale, nous devons minimiser la fonction de coût.\n",
    "\n",
    "La fonction de coût est Gini Impurity qui quantifie la pureté du nœud/feuille.\n",
    "\n",
    "L'élagage est utilisé pour éviter le surajustement en réduisant le nombre de nœuds feuilles.\n",
    "\n",
    "L'arbre de décision est robuste aux valeurs aberrantes."
   ]
  },
  {
   "cell_type": "markdown",
   "metadata": {},
   "source": [
    "Ensachage\n",
    "Le bagging est utilisé pour combiner plusieurs arbres de décision pour déterminer le résultat final plutôt que de s'appuyer sur des arbres de décision individuels."
   ]
  },
  {
   "cell_type": "code",
   "execution_count": 3,
   "metadata": {},
   "outputs": [],
   "source": [
    "from sklearn import datasets\n",
    "import pandas as pd\n",
    "from sklearn.model_selection import train_test_split\n",
    "from sklearn.ensemble import RandomForestClassifier #Importing Random Forest Classifier\n",
    "from sklearn import metrics  # Importing metrics to test accuracy"
   ]
  },
  {
   "cell_type": "markdown",
   "metadata": {},
   "source": [
    "Random Forest"
   ]
  },
  {
   "cell_type": "markdown",
   "metadata": {},
   "source": [
    "Avantages de la forêt aléatoire\n",
    "Il est très facile de mesurer l'importance de chaque caractéristique sur la prédiction.\n",
    "\n",
    "Comme nous l'avons déjà dit, les arbres de décision ont tendance à sur-ajuster et la forêt aléatoire résout ce problème car nous utilisons divers sous-ensembles de fonctionnalités et différents arbres de décision."
   ]
  },
  {
   "cell_type": "markdown",
   "metadata": {},
   "source": [
    "Inconvénients de la forêt aléatoire\n",
    "Le plus gros inconvénient de l'algorithme Random Forest est qu'il prend du temps, car il faut :\n",
    "\n",
    "Construire un grand nombre d'arbres de décision.\n",
    "\n",
    "Parcourez tous les arbres tout en prédisant une nouvelle valeur."
   ]
  },
  {
   "cell_type": "markdown",
   "metadata": {},
   "source": [
    "Random Forest est un algorithme de Machine Learning supervisé appliqué à la classification.\n",
    "\n",
    "Random Forest est essentiellement une collection d'arbres de décision.\n",
    "\n",
    "La forêt aléatoire est meilleure que l'arbre de décision en termes de précision.\n",
    "\n",
    "Random Forest empêche le surajustement."
   ]
  },
  {
   "cell_type": "code",
   "execution_count": 4,
   "metadata": {},
   "outputs": [],
   "source": [
    "df=pd.read_csv('C:/Users/DELL/Desktop/GOMYCODE/titanic_passengers.csv', sep=';',)"
   ]
  },
  {
   "cell_type": "code",
   "execution_count": 5,
   "metadata": {},
   "outputs": [
    {
     "data": {
      "text/html": [
       "<div>\n",
       "<style scoped>\n",
       "    .dataframe tbody tr th:only-of-type {\n",
       "        vertical-align: middle;\n",
       "    }\n",
       "\n",
       "    .dataframe tbody tr th {\n",
       "        vertical-align: top;\n",
       "    }\n",
       "\n",
       "    .dataframe thead th {\n",
       "        text-align: right;\n",
       "    }\n",
       "</style>\n",
       "<table border=\"1\" class=\"dataframe\">\n",
       "  <thead>\n",
       "    <tr style=\"text-align: right;\">\n",
       "      <th></th>\n",
       "      <th>PassengerId</th>\n",
       "      <th>Survived</th>\n",
       "      <th>Pclass</th>\n",
       "      <th>Name</th>\n",
       "      <th>Sex</th>\n",
       "      <th>Age</th>\n",
       "      <th>SibSp</th>\n",
       "      <th>Parch</th>\n",
       "      <th>Ticket</th>\n",
       "      <th>Fare</th>\n",
       "      <th>Cabin</th>\n",
       "      <th>Embarked</th>\n",
       "    </tr>\n",
       "  </thead>\n",
       "  <tbody>\n",
       "    <tr>\n",
       "      <th>0</th>\n",
       "      <td>343</td>\n",
       "      <td>No</td>\n",
       "      <td>2</td>\n",
       "      <td>Collander, Mr. Erik Gustaf</td>\n",
       "      <td>male</td>\n",
       "      <td>28.0</td>\n",
       "      <td>0</td>\n",
       "      <td>0</td>\n",
       "      <td>248740</td>\n",
       "      <td>13.0000</td>\n",
       "      <td>NaN</td>\n",
       "      <td>S</td>\n",
       "    </tr>\n",
       "    <tr>\n",
       "      <th>1</th>\n",
       "      <td>76</td>\n",
       "      <td>No</td>\n",
       "      <td>3</td>\n",
       "      <td>Moen, Mr. Sigurd Hansen</td>\n",
       "      <td>male</td>\n",
       "      <td>25.0</td>\n",
       "      <td>0</td>\n",
       "      <td>0</td>\n",
       "      <td>348123</td>\n",
       "      <td>7.6500</td>\n",
       "      <td>F G73</td>\n",
       "      <td>S</td>\n",
       "    </tr>\n",
       "    <tr>\n",
       "      <th>2</th>\n",
       "      <td>641</td>\n",
       "      <td>No</td>\n",
       "      <td>3</td>\n",
       "      <td>Jensen, Mr. Hans Peder</td>\n",
       "      <td>male</td>\n",
       "      <td>20.0</td>\n",
       "      <td>0</td>\n",
       "      <td>0</td>\n",
       "      <td>350050</td>\n",
       "      <td>7.8542</td>\n",
       "      <td>NaN</td>\n",
       "      <td>S</td>\n",
       "    </tr>\n",
       "    <tr>\n",
       "      <th>3</th>\n",
       "      <td>568</td>\n",
       "      <td>No</td>\n",
       "      <td>3</td>\n",
       "      <td>Palsson, Mrs. Nils (Alma Cornelia Berglund)</td>\n",
       "      <td>female</td>\n",
       "      <td>29.0</td>\n",
       "      <td>0</td>\n",
       "      <td>4</td>\n",
       "      <td>349909</td>\n",
       "      <td>21.0750</td>\n",
       "      <td>NaN</td>\n",
       "      <td>S</td>\n",
       "    </tr>\n",
       "    <tr>\n",
       "      <th>4</th>\n",
       "      <td>672</td>\n",
       "      <td>No</td>\n",
       "      <td>1</td>\n",
       "      <td>Davidson, Mr. Thornton</td>\n",
       "      <td>male</td>\n",
       "      <td>31.0</td>\n",
       "      <td>1</td>\n",
       "      <td>0</td>\n",
       "      <td>F.C. 12750</td>\n",
       "      <td>52.0000</td>\n",
       "      <td>B71</td>\n",
       "      <td>S</td>\n",
       "    </tr>\n",
       "  </tbody>\n",
       "</table>\n",
       "</div>"
      ],
      "text/plain": [
       "   PassengerId Survived  Pclass                                         Name  \\\n",
       "0          343       No       2                   Collander, Mr. Erik Gustaf   \n",
       "1           76       No       3                      Moen, Mr. Sigurd Hansen   \n",
       "2          641       No       3                       Jensen, Mr. Hans Peder   \n",
       "3          568       No       3  Palsson, Mrs. Nils (Alma Cornelia Berglund)   \n",
       "4          672       No       1                       Davidson, Mr. Thornton   \n",
       "\n",
       "      Sex   Age  SibSp  Parch      Ticket     Fare  Cabin Embarked  \n",
       "0    male  28.0      0      0      248740  13.0000    NaN        S  \n",
       "1    male  25.0      0      0      348123   7.6500  F G73        S  \n",
       "2    male  20.0      0      0      350050   7.8542    NaN        S  \n",
       "3  female  29.0      0      4      349909  21.0750    NaN        S  \n",
       "4    male  31.0      1      0  F.C. 12750  52.0000    B71        S  "
      ]
     },
     "execution_count": 5,
     "metadata": {},
     "output_type": "execute_result"
    }
   ],
   "source": [
    "df.head()"
   ]
  },
  {
   "cell_type": "code",
   "execution_count": 6,
   "metadata": {},
   "outputs": [
    {
     "data": {
      "text/plain": [
       "object     6\n",
       "int64      4\n",
       "float64    2\n",
       "dtype: int64"
      ]
     },
     "execution_count": 6,
     "metadata": {},
     "output_type": "execute_result"
    }
   ],
   "source": [
    "df.dtypes.value_counts()"
   ]
  },
  {
   "cell_type": "code",
   "execution_count": 7,
   "metadata": {},
   "outputs": [
    {
     "data": {
      "text/plain": [
       "PassengerId      0\n",
       "Survived         0\n",
       "Pclass           0\n",
       "Name             0\n",
       "Sex              0\n",
       "Age            177\n",
       "SibSp            0\n",
       "Parch            0\n",
       "Ticket           0\n",
       "Fare             0\n",
       "Cabin          687\n",
       "Embarked         2\n",
       "dtype: int64"
      ]
     },
     "execution_count": 7,
     "metadata": {},
     "output_type": "execute_result"
    }
   ],
   "source": [
    "df.isna().sum()"
   ]
  },
  {
   "cell_type": "code",
   "execution_count": 8,
   "metadata": {},
   "outputs": [],
   "source": [
    "df['Embarked'].fillna('S',inplace=True)\n",
    "df['Age'].fillna(df.Age.mean(),inplace=True)\n",
    "df['Cabin'].fillna('G6',inplace=True)"
   ]
  },
  {
   "cell_type": "markdown",
   "metadata": {},
   "source": [
    "# Encoding of the Survived variable"
   ]
  },
  {
   "cell_type": "code",
   "execution_count": 9,
   "metadata": {},
   "outputs": [],
   "source": [
    "code={\"Survived\":{\"Yes\":1,\"No\":0}}\n",
    "df.replace(code,inplace=True)"
   ]
  },
  {
   "cell_type": "code",
   "execution_count": 10,
   "metadata": {},
   "outputs": [],
   "source": [
    "B={\"Sex\":{\"male\":1,\"female\":0}}\n",
    "df.replace(B,inplace=True)"
   ]
  },
  {
   "cell_type": "code",
   "execution_count": 11,
   "metadata": {},
   "outputs": [],
   "source": [
    "#1. Lisez votre ensemble de données Titanic comme d'habitude :\n",
    "#un ensemble d'entraînement et un ensemble de test Appliquer l'arbre de décision. "
   ]
  },
  {
   "cell_type": "markdown",
   "metadata": {},
   "source": [
    "# Train Test Split and Application of Decision Tree"
   ]
  },
  {
   "cell_type": "code",
   "execution_count": 12,
   "metadata": {},
   "outputs": [],
   "source": [
    "from sklearn.model_selection import train_test_split"
   ]
  },
  {
   "cell_type": "code",
   "execution_count": 13,
   "metadata": {},
   "outputs": [],
   "source": [
    "df1=df.drop(['PassengerId','Survived','Name','SibSp','Ticket','Cabin','Embarked'],axis=1)\n",
    "df2=df.Survived"
   ]
  },
  {
   "cell_type": "code",
   "execution_count": 14,
   "metadata": {},
   "outputs": [
    {
     "name": "stdout",
     "output_type": "stream",
     "text": [
      "Train set: (712, 5)\n",
      "Test set: (179, 5)\n"
     ]
    }
   ],
   "source": [
    "X_train,X_test,Y_train,Y_test=train_test_split(df1,df2,test_size=0.2)\n",
    "print('Train set:', X_train.shape)\n",
    "print('Test set:', X_test.shape)"
   ]
  },
  {
   "cell_type": "code",
   "execution_count": 15,
   "metadata": {},
   "outputs": [],
   "source": [
    "from sklearn import tree\n",
    "clf = tree.DecisionTreeClassifier(criterion=\"entropy\",max_depth=4)"
   ]
  },
  {
   "cell_type": "code",
   "execution_count": 16,
   "metadata": {},
   "outputs": [
    {
     "data": {
      "text/plain": [
       "DecisionTreeClassifier(criterion='entropy', max_depth=4)"
      ]
     },
     "execution_count": 16,
     "metadata": {},
     "output_type": "execute_result"
    }
   ],
   "source": [
    "clf.fit(X_train,Y_train)"
   ]
  },
  {
   "cell_type": "code",
   "execution_count": 17,
   "metadata": {},
   "outputs": [],
   "source": [
    "predictions=clf.predict(X_train)"
   ]
  },
  {
   "cell_type": "code",
   "execution_count": 18,
   "metadata": {},
   "outputs": [
    {
     "data": {
      "text/plain": [
       "array([0, 0, 1, 1, 0, 0, 1, 1, 0, 1, 1, 1, 0, 0, 0, 0, 1, 1, 1],\n",
       "      dtype=int64)"
      ]
     },
     "execution_count": 18,
     "metadata": {},
     "output_type": "execute_result"
    }
   ],
   "source": [
    "predictions[0:19]"
   ]
  },
  {
   "cell_type": "code",
   "execution_count": 19,
   "metadata": {},
   "outputs": [],
   "source": [
    "prob=clf.predict_proba(X_test)"
   ]
  },
  {
   "cell_type": "code",
   "execution_count": 20,
   "metadata": {},
   "outputs": [
    {
     "data": {
      "text/plain": [
       "0.8044692737430168"
      ]
     },
     "execution_count": 20,
     "metadata": {},
     "output_type": "execute_result"
    }
   ],
   "source": [
    "clf.score(X_test,Y_test)"
   ]
  },
  {
   "cell_type": "code",
   "execution_count": 21,
   "metadata": {},
   "outputs": [],
   "source": [
    "#2. Tracez votre arbre de décision et essayez de lire les branches de l'arbre et de conclure une prédiction manuellement."
   ]
  },
  {
   "cell_type": "code",
   "execution_count": 22,
   "metadata": {},
   "outputs": [
    {
     "data": {
      "text/plain": [
       "'digraph Tree {\\nnode [shape=box] ;\\n0 [label=\"X[1] <= 0.5\\\\nentropy = 0.971\\\\nsamples = 712\\\\nvalue = [427, 285]\"] ;\\n1 [label=\"X[0] <= 2.5\\\\nentropy = 0.794\\\\nsamples = 259\\\\nvalue = [62, 197]\"] ;\\n0 -> 1 [labeldistance=2.5, labelangle=45, headlabel=\"True\"] ;\\n2 [label=\"X[4] <= 29.356\\\\nentropy = 0.313\\\\nsamples = 142\\\\nvalue = [8, 134]\"] ;\\n1 -> 2 ;\\n3 [label=\"X[4] <= 28.231\\\\nentropy = 0.531\\\\nsamples = 58\\\\nvalue = [7, 51]\"] ;\\n2 -> 3 ;\\n4 [label=\"entropy = 0.485\\\\nsamples = 57\\\\nvalue = [6, 51]\"] ;\\n3 -> 4 ;\\n5 [label=\"entropy = 0.0\\\\nsamples = 1\\\\nvalue = [1, 0]\"] ;\\n3 -> 5 ;\\n6 [label=\"X[4] <= 143.592\\\\nentropy = 0.093\\\\nsamples = 84\\\\nvalue = [1, 83]\"] ;\\n2 -> 6 ;\\n7 [label=\"entropy = 0.0\\\\nsamples = 70\\\\nvalue = [0, 70]\"] ;\\n6 -> 7 ;\\n8 [label=\"entropy = 0.371\\\\nsamples = 14\\\\nvalue = [1, 13]\"] ;\\n6 -> 8 ;\\n9 [label=\"X[4] <= 23.35\\\\nentropy = 0.996\\\\nsamples = 117\\\\nvalue = [54, 63]\"] ;\\n1 -> 9 ;\\n10 [label=\"X[2] <= 38.0\\\\nentropy = 0.944\\\\nsamples = 94\\\\nvalue = [34, 60]\"] ;\\n9 -> 10 ;\\n11 [label=\"entropy = 0.922\\\\nsamples = 89\\\\nvalue = [30, 59]\"] ;\\n10 -> 11 ;\\n12 [label=\"entropy = 0.722\\\\nsamples = 5\\\\nvalue = [4, 1]\"] ;\\n10 -> 12 ;\\n13 [label=\"X[3] <= 0.5\\\\nentropy = 0.559\\\\nsamples = 23\\\\nvalue = [20, 3]\"] ;\\n9 -> 13 ;\\n14 [label=\"entropy = 0.0\\\\nsamples = 1\\\\nvalue = [0, 1]\"] ;\\n13 -> 14 ;\\n15 [label=\"entropy = 0.439\\\\nsamples = 22\\\\nvalue = [20, 2]\"] ;\\n13 -> 15 ;\\n16 [label=\"X[4] <= 15.173\\\\nentropy = 0.71\\\\nsamples = 453\\\\nvalue = [365, 88]\"] ;\\n0 -> 16 [labeldistance=2.5, labelangle=-45, headlabel=\"False\"] ;\\n17 [label=\"X[2] <= 13.5\\\\nentropy = 0.486\\\\nsamples = 275\\\\nvalue = [246, 29]\"] ;\\n16 -> 17 ;\\n18 [label=\"entropy = 0.0\\\\nsamples = 5\\\\nvalue = [0, 5]\"] ;\\n17 -> 18 ;\\n19 [label=\"X[4] <= 7.133\\\\nentropy = 0.433\\\\nsamples = 270\\\\nvalue = [246, 24]\"] ;\\n17 -> 19 ;\\n20 [label=\"entropy = 0.0\\\\nsamples = 30\\\\nvalue = [30, 0]\"] ;\\n19 -> 20 ;\\n21 [label=\"entropy = 0.469\\\\nsamples = 240\\\\nvalue = [216, 24]\"] ;\\n19 -> 21 ;\\n22 [label=\"X[2] <= 3.5\\\\nentropy = 0.916\\\\nsamples = 178\\\\nvalue = [119, 59]\"] ;\\n16 -> 22 ;\\n23 [label=\"X[0] <= 2.5\\\\nentropy = 0.779\\\\nsamples = 13\\\\nvalue = [3, 10]\"] ;\\n22 -> 23 ;\\n24 [label=\"entropy = 0.0\\\\nsamples = 7\\\\nvalue = [0, 7]\"] ;\\n23 -> 24 ;\\n25 [label=\"entropy = 1.0\\\\nsamples = 6\\\\nvalue = [3, 3]\"] ;\\n23 -> 25 ;\\n26 [label=\"X[0] <= 1.5\\\\nentropy = 0.878\\\\nsamples = 165\\\\nvalue = [116, 49]\"] ;\\n22 -> 26 ;\\n27 [label=\"entropy = 0.984\\\\nsamples = 94\\\\nvalue = [54, 40]\"] ;\\n26 -> 27 ;\\n28 [label=\"entropy = 0.548\\\\nsamples = 71\\\\nvalue = [62, 9]\"] ;\\n26 -> 28 ;\\n}'"
      ]
     },
     "execution_count": 22,
     "metadata": {},
     "output_type": "execute_result"
    }
   ],
   "source": [
    "from sklearn.tree import export_graphviz\n",
    "export_graphviz(clf.fit(X_train,Y_train))"
   ]
  },
  {
   "cell_type": "code",
   "execution_count": 26,
   "metadata": {},
   "outputs": [
    {
     "data": {
      "text/plain": [
       "array([0, 0, 1, 1, 0, 0, 1, 1, 0, 1, 1, 1, 0, 0, 0, 0, 1, 1, 1],\n",
       "      dtype=int64)"
      ]
     },
     "execution_count": 26,
     "metadata": {},
     "output_type": "execute_result"
    }
   ],
   "source": [
    "predictions[0:19]"
   ]
  },
  {
   "cell_type": "code",
   "execution_count": 27,
   "metadata": {},
   "outputs": [
    {
     "data": {
      "text/plain": [
       "249    0\n",
       "326    1\n",
       "277    1\n",
       "807    0\n",
       "3      0\n",
       "554    0\n",
       "667    0\n",
       "68     0\n",
       "235    1\n",
       "677    1\n",
       "495    1\n",
       "433    0\n",
       "647    0\n",
       "337    0\n",
       "645    0\n",
       "33     0\n",
       "218    1\n",
       "184    1\n",
       "833    0\n",
       "Name: Survived, dtype: int64"
      ]
     },
     "execution_count": 27,
     "metadata": {},
     "output_type": "execute_result"
    }
   ],
   "source": [
    "Y_test[0:19]"
   ]
  },
  {
   "cell_type": "code",
   "execution_count": 28,
   "metadata": {},
   "outputs": [],
   "source": [
    "#3. Modifier les paramètres de l'arbre de décision (modifier au moins deux paramètres), "
   ]
  },
  {
   "cell_type": "code",
   "execution_count": 29,
   "metadata": {},
   "outputs": [],
   "source": [
    "clf=tree.DecisionTreeClassifier(criterion=\"gini\",splitter='random',max_leaf_nodes=10,min_samples_leaf=5,max_depth=5)"
   ]
  },
  {
   "cell_type": "code",
   "execution_count": 30,
   "metadata": {},
   "outputs": [
    {
     "data": {
      "text/plain": [
       "DecisionTreeClassifier(max_depth=5, max_leaf_nodes=10, min_samples_leaf=5,\n",
       "                       splitter='random')"
      ]
     },
     "execution_count": 30,
     "metadata": {},
     "output_type": "execute_result"
    }
   ],
   "source": [
    "clf"
   ]
  },
  {
   "cell_type": "code",
   "execution_count": 31,
   "metadata": {},
   "outputs": [],
   "source": [
    "#4. Calculez la nouvelle précision et comparez-la avec les résultats précédents. "
   ]
  },
  {
   "cell_type": "code",
   "execution_count": 32,
   "metadata": {},
   "outputs": [
    {
     "data": {
      "text/plain": [
       "DecisionTreeClassifier(max_depth=5, max_leaf_nodes=10, min_samples_leaf=5,\n",
       "                       splitter='random')"
      ]
     },
     "execution_count": 32,
     "metadata": {},
     "output_type": "execute_result"
    }
   ],
   "source": [
    "clf.fit(X_train,Y_train)"
   ]
  },
  {
   "cell_type": "code",
   "execution_count": 33,
   "metadata": {},
   "outputs": [],
   "source": [
    "pred=clf.predict(X_train)"
   ]
  },
  {
   "cell_type": "code",
   "execution_count": 34,
   "metadata": {},
   "outputs": [
    {
     "data": {
      "text/plain": [
       "array([0, 0, 1, 1, 0, 0, 1, 1, 1, 1, 1, 1, 0, 0, 0, 1, 1, 1, 1],\n",
       "      dtype=int64)"
      ]
     },
     "execution_count": 34,
     "metadata": {},
     "output_type": "execute_result"
    }
   ],
   "source": [
    "pred[0:19]"
   ]
  },
  {
   "cell_type": "code",
   "execution_count": 35,
   "metadata": {},
   "outputs": [],
   "source": [
    "prob=clf.predict_proba(X_test)"
   ]
  },
  {
   "cell_type": "code",
   "execution_count": 36,
   "metadata": {},
   "outputs": [
    {
     "data": {
      "text/plain": [
       "0.770949720670391"
      ]
     },
     "execution_count": 36,
     "metadata": {},
     "output_type": "execute_result"
    }
   ],
   "source": [
    "clf.score(X_test,Y_test)"
   ]
  },
  {
   "cell_type": "markdown",
   "metadata": {},
   "source": [
    "# Comparison"
   ]
  },
  {
   "cell_type": "markdown",
   "metadata": {},
   "source": [
    "We notice that the new precision is the same as the previous one. The difference lies in the level of the score or learning rate which favors the first model much more"
   ]
  },
  {
   "cell_type": "code",
   "execution_count": 37,
   "metadata": {},
   "outputs": [],
   "source": [
    "#5. Utilisez une forêt aléatoire puis modifiez le nombre d'estimateurs"
   ]
  },
  {
   "cell_type": "code",
   "execution_count": 38,
   "metadata": {},
   "outputs": [],
   "source": [
    "from sklearn.ensemble import RandomForestClassifier\n",
    "classifier_rf = RandomForestClassifier(random_state=42, n_jobs=-1, max_depth=5,\n",
    "                                       n_estimators=100, oob_score=True)"
   ]
  },
  {
   "cell_type": "code",
   "execution_count": 39,
   "metadata": {},
   "outputs": [
    {
     "data": {
      "text/plain": [
       "RandomForestClassifier(max_depth=5, n_jobs=-1, oob_score=True, random_state=42)"
      ]
     },
     "execution_count": 39,
     "metadata": {},
     "output_type": "execute_result"
    }
   ],
   "source": [
    "classifier_rf.fit(X_train,Y_train)"
   ]
  },
  {
   "cell_type": "code",
   "execution_count": 40,
   "metadata": {},
   "outputs": [],
   "source": [
    "pre=classifier_rf.predict(X_test)"
   ]
  },
  {
   "cell_type": "code",
   "execution_count": 41,
   "metadata": {},
   "outputs": [],
   "source": [
    "prob=classifier_rf.predict_proba(X_test)"
   ]
  },
  {
   "cell_type": "code",
   "execution_count": 42,
   "metadata": {},
   "outputs": [
    {
     "data": {
      "text/plain": [
       "0.7988826815642458"
      ]
     },
     "execution_count": 42,
     "metadata": {},
     "output_type": "execute_result"
    }
   ],
   "source": [
    "classifier_rf.score(X_test,Y_test)"
   ]
  },
  {
   "cell_type": "markdown",
   "metadata": {},
   "source": [
    "# Comparison"
   ]
  },
  {
   "cell_type": "code",
   "execution_count": 43,
   "metadata": {},
   "outputs": [
    {
     "data": {
      "text/plain": [
       "array([0, 1, 1, 0, 1, 0, 0, 0, 0, 1, 1, 0, 0, 0, 0, 1, 0, 1, 0],\n",
       "      dtype=int64)"
      ]
     },
     "execution_count": 43,
     "metadata": {},
     "output_type": "execute_result"
    }
   ],
   "source": [
    "pre[0:19]"
   ]
  },
  {
   "cell_type": "markdown",
   "metadata": {},
   "source": [
    "there is a big difference between the result given by the RandomForest and that of the DecisionTree"
   ]
  },
  {
   "cell_type": "code",
   "execution_count": 44,
   "metadata": {},
   "outputs": [
    {
     "data": {
      "text/plain": [
       "array([0, 0, 1, 1, 0, 0, 1, 1, 1, 1, 1, 1, 0, 0, 0, 1, 1, 1, 1],\n",
       "      dtype=int64)"
      ]
     },
     "execution_count": 44,
     "metadata": {},
     "output_type": "execute_result"
    }
   ],
   "source": [
    "pred[0:19]"
   ]
  },
  {
   "cell_type": "code",
   "execution_count": 45,
   "metadata": {},
   "outputs": [
    {
     "data": {
      "text/plain": [
       "array([0, 0, 1, 1, 0, 0, 1, 1, 0, 1, 1, 1, 0, 0, 0, 0, 1, 1, 1],\n",
       "      dtype=int64)"
      ]
     },
     "execution_count": 45,
     "metadata": {},
     "output_type": "execute_result"
    }
   ],
   "source": [
    "predictions[0:19]"
   ]
  }
 ],
 "metadata": {
  "kernelspec": {
   "display_name": "Python 3",
   "language": "python",
   "name": "python3"
  },
  "language_info": {
   "codemirror_mode": {
    "name": "ipython",
    "version": 3
   },
   "file_extension": ".py",
   "mimetype": "text/x-python",
   "name": "python",
   "nbconvert_exporter": "python",
   "pygments_lexer": "ipython3",
   "version": "3.8.5"
  }
 },
 "nbformat": 4,
 "nbformat_minor": 4
}
